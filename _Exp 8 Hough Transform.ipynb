{
 "cells": [
  {
   "cell_type": "code",
   "execution_count": 11,
   "id": "df4c4460",
   "metadata": {},
   "outputs": [],
   "source": [
    "import cv2\n",
    "import numpy as np\n",
    "import matplotlib.pyplot as plt"
   ]
  },
  {
   "cell_type": "code",
   "execution_count": null,
   "id": "840721cc",
   "metadata": {},
   "outputs": [],
   "source": [
    "img = cv2.imread(\"lined.png\")\n",
    "cv2.imshow(\"original\",img)\n",
    "cv2.waitKey(0)\n",
    "cv2.destroyAllWindows()"
   ]
  },
  {
   "cell_type": "code",
   "execution_count": null,
   "id": "92a451f1",
   "metadata": {},
   "outputs": [],
   "source": [
    "bigger = cv2.resize(img, (350, 300))\n",
    "cv2.imshow(\"resize\",bigger)\n",
    "cv2.waitKey(0)\n",
    "cv2.destroyAllWindows()"
   ]
  },
  {
   "cell_type": "code",
   "execution_count": null,
   "id": "24f6f79c",
   "metadata": {},
   "outputs": [],
   "source": [
    "gray = cv2.cvtColor(bigger, cv2.COLOR_BGR2GRAY)\n",
    "cv2.imshow(\"gray\",gray)\n",
    "cv2.waitKey(0)\n",
    "cv2.destroyAllWindows()\n"
   ]
  },
  {
   "cell_type": "code",
   "execution_count": null,
   "id": "aab7a4cb",
   "metadata": {},
   "outputs": [],
   "source": [
    "img = cv2.GaussianBlur(gray,(3,3),0)\n",
    "cv2.imshow(\"Gaussian blur\",img)\n",
    "cv2.waitKey(0)\n",
    "cv2.destroyAllWindows()"
   ]
  },
  {
   "cell_type": "code",
   "execution_count": null,
   "id": "302a4efe",
   "metadata": {},
   "outputs": [],
   "source": [
    "canny_edges = cv2.Canny(bigger,10,150)\n",
    "plt.figure(1)\n",
    "cv2.imshow(\"Canny Edges\",canny_edges)\n",
    "cv2.waitKey(0)\n",
    "cv2.destroyAllWindows"
   ]
  },
  {
   "cell_type": "code",
   "execution_count": null,
   "id": "9b2927a4",
   "metadata": {
    "scrolled": true
   },
   "outputs": [],
   "source": [
    "lines = cv2.HoughLinesP(canny_edges,1,np.pi/180,threshold = 80,minLineLength = 50,maxLineGap=250)\n"
   ]
  },
  {
   "cell_type": "code",
   "execution_count": null,
   "id": "0eb9c349",
   "metadata": {},
   "outputs": [],
   "source": [
    "for line in lines:\n",
    "    x1,y1,x2,y2 = line[0]\n",
    "    cv2.line(bigger,(x1,y1),(x2,y2),(255,0,0),3)\n",
    "\n",
    "cv2.imshow(\"lines\",bigger)\n",
    "cv2.waitKey(0)\n",
    "cv2.destroyAllWindows()"
   ]
  },
  {
   "cell_type": "code",
   "execution_count": null,
   "id": "5867699c",
   "metadata": {},
   "outputs": [],
   "source": []
  }
 ],
 "metadata": {
  "kernelspec": {
   "display_name": "Python 3 (ipykernel)",
   "language": "python",
   "name": "python3"
  },
  "language_info": {
   "codemirror_mode": {
    "name": "ipython",
    "version": 3
   },
   "file_extension": ".py",
   "mimetype": "text/x-python",
   "name": "python",
   "nbconvert_exporter": "python",
   "pygments_lexer": "ipython3",
   "version": "3.8.12"
  }
 },
 "nbformat": 4,
 "nbformat_minor": 5
}
